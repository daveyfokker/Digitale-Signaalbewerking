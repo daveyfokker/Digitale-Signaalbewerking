{
 "cells": [
  {
   "cell_type": "markdown",
   "metadata": {},
   "source": [
    "# Digitale signaal bewerking - opdrachten\n",
    "\n",
    "Voer hieronder je studentnummer (8 cijfers) en je naam (als string) in"
   ]
  },
  {
   "cell_type": "code",
   "execution_count": null,
   "metadata": {},
   "outputs": [],
   "source": [
    "studentnummer = 12345678\n",
    "studentnaam = \"Voornaam Achternaam\"\n",
    "\n",
    "studentnummer2 = 12345678\n",
    "studentnaam2 = \"Voornaam Achternaam\""
   ]
  },
  {
   "cell_type": "markdown",
   "metadata": {},
   "source": [
    "## Let op!\n",
    "\n",
    "<div class=\"alert alert-block alert-danger\"\n",
    "\n",
    "*** Je maakt deze opdracht met zijn tweeen (als duo dus).**\n",
    "\n",
    "*** Zet de bestanden `module_dsp.py` en `digsi2425_module_dsp_opdrachten.py` in dezelfde folder als waar je dit Jupyter notebook hebt neergezet. Deze modules bevatten allerlei Python-functies die nodig zijn. De functies in `module_dsp.py` hebben allemaal een help-tekst (doc-string). We gaan ervan uit dat jullie die help-teksten zullen lezen wanneer nodig. De functies in `digsi2425_module_dsp_opdrachten.py` bevatten software horende bij enkele van deze opdrachten.**\n",
    "\n",
    "\n",
    "*** Gebruik in door jou geschreven code geen namen voor variabelen die ook een andere betekenis hebben in Python. Gebruik dus bijvoorbeeld geen ```np``` als variabele naam.** \n",
    "\n",
    "*** Wanneer er in de code-blokken variabele-namen met `opg` beginnen, dan moet je die variabelen verderop in het notebook niet meer overschrijven met andere waarden. Dit omdat, bij het nakijken van dit notebook, de docent de waarden in deze variabele-namen vergelijkt met de correcte antwoorden.**      \n",
    "\n",
    "*** Je voegt geen extra Python modules toe. Die worden bij het nakijken niet meegenomen**\n",
    "\n",
    "\n",
    "*** Bij het maken van figuren moet het commando `%matplotlib inline` aangeroepen zijn. Gebruik van andere vergelijkbare commandos, zoals `%matplotlib notebook`, is verboden. De reden is dat de figuren dan voor ons (de docenten) niet altijd goed zichtbaar zijn. Waardoor je dan nul punten voor het desbetreffende onderdeel krijgt.**\n",
    "\n",
    "*** Je maakt alle onderstaande opdrachten.Zorg ervoor dat dit Jupyter notebook van boven naar beneden op correcte wijze te doorlopen is. Je wilt niet dat er, als gevolg van het kris-kras doorlopen, bepaalde variabelen in het geheugen zitten die niet in het geheugen zitten bij het van boven naar beneden doorlopen (wat de docent doet). Dan zal je notebook niet goed werken**\n",
    "\n",
    "\n",
    "*** Je maakt alle onderstaande opdrachten. Er zijn twee soorten opdrachten:**\n",
    "* Code opdracht. Je vult alle cellen met code correct aan en je draait vervolgens deze code zodat de uitvoer zichtbaar is. De uitvoer kan bestaan uit een figuur of uit getallen. In sommige gevallen staat er al een stukje code. Zorg ervoor dat het door jou geschreven stuk code past bij de code die er al staat. \n",
    "* Schriftelijke opdracht. Je geeft schriftelijk (dus in woorden of formules, maar niet in de vorm van code) antwoord op de vragende vragen die in het rood staan. Je zorgt er voor dat je antwoorden in het rood zichtbaar zijn.\n",
    "\n",
    "***Vervolgens upload je het Jupyter Notebook bestand als ipynb-bestand op BrightSpace.**"
   ]
  },
  {
   "cell_type": "markdown",
   "metadata": {},
   "source": [
    "Importeer de onderstaande modules"
   ]
  },
  {
   "cell_type": "code",
   "execution_count": null,
   "metadata": {},
   "outputs": [],
   "source": [
    "import numpy as np\n",
    "import module_dsp as dsp\n",
    "import digsi2425_module_dsp_opdrachten as dsp_op\n",
    "import matplotlib.pyplot as plt\n",
    "\n",
    "# Hieronder staan extra codes voor een goede weergave van de plotjes in jupyter.\n",
    "# Magisch commando om plotjes in jupyter weer te geven (maar werkt niet bij printen)\\\n",
    "# %matplotlib notebook\n",
    "\n",
    "# Maar bij inline geen zoom-mogelijkheid in de figuren!\n",
    "%matplotlib inline"
   ]
  },
  {
   "cell_type": "markdown",
   "metadata": {},
   "source": [
    "# Week 1 en 2 - eenheidsignalen en LTI systemen\n",
    "\n",
    "# Te bestuderen stof\n",
    "\n"
   ]
  },
  {
   "cell_type": "markdown",
   "metadata": {},
   "source": [
    "De volgende stof wordt in dit deel van het Jupyter notebook behandeld:  \n",
    "* Je maakt kennis met enkele functies van de module $\\textit{'module_dsp.py'}$ die bij dit vak gebruikt wordt.  \n",
    "* Hoofdstuk 1 uit het boek van Wang.\n",
    "* Hoofdstuk 2 van het boek van Wang.\n",
    "* Hoofdstuk 3 van het boek van Wang.\n",
    "* Hoofdstuk 1 van de leeswijzer bij dit vak"
   ]
  },
  {
   "cell_type": "markdown",
   "metadata": {},
   "source": [
    "# Informatie over functie dsp.fig_plot\n",
    "\n"
   ]
  },
  {
   "cell_type": "markdown",
   "metadata": {},
   "source": [
    "In de Jupyter Notebook opdrachten voor dit vak zul je vaak figuren gaan maken. Daarvoor is de Python-functie `dsp.fig_plot` in module `module_dsp.py` geschreven. Hieronder staan een aantal voorbeelden van het gebruik van deze functie. Bestudeer de voorbeelden en de help-beschrijving in `dsp.fig_plot`."
   ]
  },
  {
   "cell_type": "markdown",
   "metadata": {},
   "source": [
    "$\\textbf{Voorbeeld  1.}$   \n",
    "Een voorbeeld waarin 1 lijn getekend is.    \n",
    "(Je hoeft de Python code alleen maar te draaien. Je hoeft er niets aan te veranderen)."
   ]
  },
  {
   "cell_type": "code",
   "execution_count": null,
   "metadata": {},
   "outputs": [],
   "source": [
    "# --- Intialize plot\n",
    "x1 = np.linspace(0,10,50)\n",
    "y1 = np.sin(x1)\n",
    "\n",
    "# --- Maak figuur\n",
    "fig_info = {'xlabel':'x', 'ylabel':'y', 'title':'Grafiek van y = sin(x)',\n",
    "            'xdata':[x1], 'ydata':[y1], 'markerstyle':['k'],\n",
    "            'label':['sin(x)']}\n",
    "dsp.fig_plot(fig_info,'lineplot')"
   ]
  },
  {
   "cell_type": "markdown",
   "metadata": {},
   "source": [
    "$\\textbf{Voorbeeld  2.}$     \n",
    "Enkele zaken zijn gewijzigd.   \n",
    "(Je hoeft de Python code alleen maar te draaien. Je hoeft er niets aan te veranderen)."
   ]
  },
  {
   "cell_type": "code",
   "execution_count": null,
   "metadata": {},
   "outputs": [],
   "source": [
    "# Intialize plot\n",
    "x1 = np.linspace(0,10,50)\n",
    "y1 = np.sin(x1)\n",
    "\n",
    "# --- Maak figuur\n",
    "fig_info = {'xlabel':'t [s]', 'ylabel':'u [m]', 'title':'Grafiek van u = sin(t)',\n",
    "            'xdata':[x1], 'ydata':[y1], 'markerstyle':['r*'],\n",
    "            'label':['sin(t)']}\n",
    "dsp.fig_plot(fig_info,'lineplot')"
   ]
  },
  {
   "cell_type": "markdown",
   "metadata": {},
   "source": [
    "$\\textbf{Voorbeeld  3.}$     \n",
    "Je kunt ook twee (of meer) lijnen in 1 figuur zetten.       \n",
    "(Je hoeft de Python code alleen maar te draaien. Je hoeft er niets aan te veranderen)."
   ]
  },
  {
   "cell_type": "code",
   "execution_count": null,
   "metadata": {},
   "outputs": [],
   "source": [
    "# Intialize plot\n",
    "x1 = np.linspace(0,10,50)\n",
    "y1 = np.sin(x1)\n",
    "x2 = np.linspace(0,6,40)\n",
    "y2 = np.cos(x2)\n",
    "\n",
    "# --- Maak figuur\n",
    "fig_info = {'xlabel':'x', 'ylabel':'y', 'title':'sinus en cosinus',\n",
    "            'xdata':[x1,x2], 'ydata':[y1,y2], 'markerstyle':['ro','k*'],\n",
    "            'label':['sin(x)','cos(x)']}\n",
    "dsp.fig_plot(fig_info,'lineplot')"
   ]
  },
  {
   "cell_type": "markdown",
   "metadata": {},
   "source": [
    "$\\textbf{Voorbeeld  4.}$     \n",
    "Het is ook mogelijk om een zogenaamd stemplot te maken.          \n",
    "(Je hoeft de Python code alleen maar te draaien. Je hoeft er niets aan te veranderen).\n",
    "\n",
    "$\\textbf{Let op. Het kan zo zijn dat jouw Jupyter Notebook werkomgeving niet in staat is om stemplots te maken. Als dat het geval is, dan moet je in deze en de volgende opdrachten de string 'stemplot' altijd vervangen door 'lineplot'}$"
   ]
  },
  {
   "cell_type": "code",
   "execution_count": null,
   "metadata": {},
   "outputs": [],
   "source": [
    "# Intialize plot\n",
    "x = np.linspace(0,2,10)\n",
    "y = np.exp(x) - 0.5*x**2\n",
    "\n",
    "# --- Maak figuur\n",
    "fig_info = {'xlabel':'x', 'ylabel':'y', 'title':'Functie $e^x - 0.5x^2$',\n",
    "            'xdata':[x], 'ydata':[y], 'markerstyle':['ro'],\n",
    "            'label':[' ']}\n",
    "dsp.fig_plot(fig_info,'stemplot')"
   ]
  },
  {
   "cell_type": "markdown",
   "metadata": {},
   "source": [
    "$\\textbf{Voorbeeld  5.}$     \n",
    "In dit vak moet je soms laten zien dat twee tijdseries identiek aan elkaar zijn. Dat kan door beide tijdseries in 1 grafiek te tekenen. Als beide tijdseries identiek zijn, liggen de lijnen bij beide tijdseries natuurlijk op elkaar. Dus je moet ervoor zorgen dat beide lijnen zichtbaar zijn. Dat kan bijvoorbeeld op de manier die hieronder staat.   \n",
    "(Je hoeft de Python code alleen maar te draaien. Je hoeft er niets aan te veranderen)."
   ]
  },
  {
   "cell_type": "code",
   "execution_count": null,
   "metadata": {},
   "outputs": [],
   "source": [
    "# Intialize plot\n",
    "t  = np.linspace(0,10,50)\n",
    "u1 = np.sin(t)**2\n",
    "u2 = 1 - np.cos(t)**2\n",
    "\n",
    "# --- Maak figuur\n",
    "fig_info = {'xlabel':'t [s]', 'ylabel':'u', 'title':'Is identiteit $\\sin^2(x)$ = 1-$\\cos^2(x)$ geldig?',\n",
    "            'xdata':[t,t], 'ydata':[u1,u2], 'markerstyle':['ro','k'],\n",
    "            'label':['$\\sin^2(x)$','1-$\\cos^2(x)$']}\n",
    "dsp.fig_plot(fig_info,'lineplot')"
   ]
  },
  {
   "cell_type": "markdown",
   "metadata": {},
   "source": [
    "# Opdrachten bij hoofdstuk 1 uit het boek van Wang"
   ]
  },
  {
   "cell_type": "markdown",
   "metadata": {},
   "source": [
    "Bestudeer hoofdstuk 1 uit het boek van Wang. "
   ]
  },
  {
   "cell_type": "markdown",
   "metadata": {},
   "source": [
    "$\\textbf{Opdracht 1}$     \n",
    "Gegeven is een sinusvormig signaal met periode $T = 8,0$ s en amplitude $A = 1,5$ cm. \n",
    "\n",
    "(a) Bereken de minimale bemonsteringsfrequentie volgens de Shannon's sampling theorem waarmee dit signaal bemonsterd moet worden. Je schrijft het antwoord weg in variabele `opg01a`.\n",
    "\n",
    "(b) Voor deze minimale bemonsteringsfrequentie wordt ook wel eens een andere term gebruikt. Welk van de volgende termen is dat? Je schrijft het antwoord (een integer waarde: 1, 2, 3 of 4) weg in variabele `opg01b`.      \n",
    "    1 De sampling frequentie  \n",
    "    2 De Nyquist frequentie   \n",
    "    3 De Hertz frequentie    \n",
    "    4 De hoekfrequentie\n",
    "    \n",
    "Je schrijft de antwoord weg in variabele `opg01a` en `opg01b`."
   ]
  },
  {
   "cell_type": "code",
   "execution_count": null,
   "metadata": {},
   "outputs": [],
   "source": [
    "# Opdracht\n",
    "opg01a = 0   # Geef het juiste antwoord\n",
    "opg01b = 0   # Geef het juiste antwoord (integer waarde)\n",
    "\n"
   ]
  },
  {
   "cell_type": "markdown",
   "metadata": {},
   "source": [
    "$\\textbf{Opdracht 2: Zo groot mogelijke bemonsteringsfrequentie?}$     \n",
    "Er geldt: hoe hoger de bemonsteringsfrequentie, hoe beter het signaal in het tijddomein getoond wordt. Dus je zou kunnen zeggen: kies de bemonsteringsfrequentie altijd zo groot mogelijk. Aan het zo groot mogelijk kiezen van de bemonsteringsfrequentie kleven wel nadelen.            \n",
    "(a) Noem een nadeel van een zeer grote bemonsteringsfrequentie in een systeem waarin data wordt opgeslagen om deze op een later moment te bewerken      \n",
    "(b) Noem een nadeel van een zeer grote bemonsteringsfrequentie in een systeem waarin data real-time verwerkt wordt     "
   ]
  },
  {
   "cell_type": "markdown",
   "metadata": {},
   "source": [
    "<span style=\"color:red\">\n",
    "VERVANG DEZE TEKST DOOR JOUW ANTWOORD OP BOVENSTAANDE VRAAG. ZORG ERVOOR DAT DE TEKST IN HET ROOD BLIJFT.\n",
    "    \n",
    "</span> \n"
   ]
  },
  {
   "cell_type": "markdown",
   "metadata": {},
   "source": [
    "# Opdrachten bij Hoofdstuk 2 uit het boek van Wang\n",
    "\n"
   ]
  },
  {
   "cell_type": "markdown",
   "metadata": {},
   "source": [
    "Bestudeer Hoofdstuk 2 uit het boek van Wang.\n"
   ]
  },
  {
   "cell_type": "markdown",
   "metadata": {},
   "source": [
    "In module `module_dsp.py` zitten 3 Python-functies die horen bij hoofdstuk 2. \n",
    "* `dsp.unit_impulse` geeft een eenheidspuls (unit impulse) functie   \n",
    "* `dsp.unit_step` geeft een eenheidsstap (unit step) functie      \n",
    "* `dsp.unit_ramp` geeft een lineaire (ramp) functie  \n",
    "\n",
    "Bestudeer de help-beschrijving van deze drie functies. "
   ]
  },
  {
   "cell_type": "markdown",
   "metadata": {},
   "source": [
    "$\\textbf{Voorbeeld.}$     \n",
    "Hieronder staat een voorbeeld van het gebruik van deze drie functies. Je maakt hiermee een signaal met variabele naam `testsignaal` aan. \n",
    "(Je hoeft de Python code alleen maar te draaien. Je hoeft er niets aan te veranderen)."
   ]
  },
  {
   "cell_type": "code",
   "execution_count": null,
   "metadata": {},
   "outputs": [],
   "source": [
    "N = 10\n",
    "s1 = dsp.studentnummer_one(studentnummer, 1 )\n",
    "s2 = dsp.studentnummer_one(studentnummer, 2 )\n",
    "s4 = dsp.studentnummer_one(studentnummer, 4 )\n",
    "testsignaal = dsp.unit_ramp(N,s1) + 4*dsp.unit_impulse(N,s2) - 2*dsp.unit_step(N,s4) - 5*s1\n",
    "\n",
    "fig_info = {'xlabel':'n [-]', 'ylabel':'waarde', 'title':'testsignaal',\n",
    "            'ydata':[testsignaal], 'label':['testsignaal'], 'markerstyle':['ro']}\n",
    "dsp.fig_plot(fig_info,'stemplot')"
   ]
  },
  {
   "cell_type": "markdown",
   "metadata": {},
   "source": [
    "# Opdrachten bij hoofdstuk 3 uit het boek van Wang"
   ]
  },
  {
   "cell_type": "markdown",
   "metadata": {},
   "source": [
    "Bestudeer hoofdstuk 3 van het boek van Wang."
   ]
  },
  {
   "cell_type": "markdown",
   "metadata": {},
   "source": [
    "$\\textbf{Opdracht 3. Reproductie bovenstaande figuur}$   \n",
    "Hieronder geef je code waarin je het signaal `testsignaal` uit bovenstaande figuur exact namaakt door alleen maar eenheidspulsen (unit impulses) met hun juiste bijbehorende gewicht en verschuiving bij elkaar op te tellen. Het door jou nagemaakte signaal moet de variabele naam `opg03` hebben. \n",
    "\n",
    "De rode bolletjes en zwarte kruisjes moeten dus op elkaar liggen"
   ]
  },
  {
   "cell_type": "code",
   "execution_count": null,
   "metadata": {},
   "outputs": [],
   "source": [
    "# Zet hieronder jouw code voor opdracht 3\n",
    "opg03 = 0\n",
    "\n",
    "\n",
    "# LAAT ONDERSTAANDE STAAN !!!\n",
    "# Maak figuur\n",
    "fig_info = {'xlabel':'n', 'ylabel':'waarde', 'title':'testsignaal',\n",
    "            'ydata':[testsignaal,opg03], 'label':['testsignaal','opg03'],\n",
    "            'markerstyle':['ro','kx']}\n",
    "dsp.fig_plot(fig_info,'stemplot')\n"
   ]
  },
  {
   "cell_type": "markdown",
   "metadata": {},
   "source": [
    "<div class=\"alert alert-block alert-danger\"\n",
    "     \n",
    "     Antwoord bovenstaande opdracht: testsignaal en reproductiesignaal moeten hetzelfde zijn, en dus over elkaar heen liggen"
   ]
  },
  {
   "cell_type": "markdown",
   "metadata": {},
   "source": [
    "$\\textbf{Opdracht 4. Welke systemen zijn LTI (linear time-invariant) en causaal?}$      \n",
    "Hieronder staan 3 systemen. Over ieder van deze systemen stellen we drie vragen: \n",
    "* is dit systeem lineair of niet-lineair? Indien niet-lineair, welke term(en) is/zijn daarvoor verantwoordelijk?  \n",
    "* is dit systeem tijdsinvariant of niet tijdsinvariant? Indien niet-tijdsinvariant, welke term(en) is/zijn daarvoor verantwoordelijk?\n",
    "* is dit systeem causaal of niet causaal? Indien niet-causaal, welke term(en) is/zijn daarvoor verantwoordelijk? \n",
    "\n",
    "Systeem 1: \n",
    "$y[n] + 2 y[n-1] = -5 x[n] + 7 x^2[n-2] + 2 x[n-3]$\n",
    "\n",
    "Systeem 2: \n",
    "$y[n] + 2 y[n-1] + n = -5 n x[n] + 7 x[n-2] + 2 x[n+3] + 3$\n",
    "\n",
    "Systeem 3: \n",
    "$y[n] + 2 y[n-1] = -5 x[n] + 7 x[n-2] + 2 x[n-3]$\n"
   ]
  },
  {
   "cell_type": "markdown",
   "metadata": {},
   "source": [
    "<span style=\"color:red\">\n",
    "GEEF HIERONDER ANTWOORD OP BOVENSTAANDE VRAAG. </span> \n",
    "    \n",
    "Systeem |  Linear of niet-lineair?  |  Indien niet-linear, welke term(en) is/zijn  dan niet-lineair?\n",
    "--------|---------------------------|-------------------------------------\n",
    "1       |  invullen                 |   invullen\n",
    "2       |  invullen                 |   invullen\n",
    "3       |  invullen                 |   invullen\n",
    "\n",
    "\n",
    "Systeem | Tijdsinvariant of niet-tijdsinvariant? | Indien niet-tijdsinvariant, welke term(en) is/zijn  dan niet-tijdsinvariant?\n",
    "--------|---------------------------|-------------------------------------\n",
    "1       |  invullen                 |   invullen\n",
    "2       |  invullen                 |   invullen\n",
    "3       |  invullen                 |   invullen\n",
    "\n",
    "\n",
    "Systeem |  Causaal of niet-causaal? |  Indien niet-causaal, welke term(en) is/zijn  dan niet-niet-causaal?\n",
    "--------|---------------------------|-------------------------------------\n",
    "1       |  invullen                 |   invullen\n",
    "2       |  invullen                 |   invullen\n",
    "3       |  invullen                 |   invullen\n",
    "\n",
    "\n"
   ]
  },
  {
   "cell_type": "markdown",
   "metadata": {},
   "source": [
    "<div class=\"alert alert-block alert-danger\">\n",
    "$\\textbf{Belangrijke opmerking: storende fout in het boek}$     \n",
    "\n",
    "In het boek van Wang staat een storende fout. De $a$-coefficienten in vergelijkingen (3.7), (3.8) en (3.10) van het boek van Wang komen $\\textbf{NIET}$ overeen met de $a$-coefficienten in vergelijking (3.9). Daarom staan in de PDF met correcties (bestand `WANG_introduction-to-digital-signal-and-system-analysis_inclusief-correcties-en-aantekeningen.pdf`) nu accentjes bij de $a$-coefficienten in vergelijkingen (3.7), (3.8) en (3.10). \n",
    "\n",
    "In het vak Digitale Signaalbewerking gebruiken wij de notatie voor de $a$-coefficienten zoals in formule (3.9) uit Wang. In hoofdstuk 5 zal blijken dat deze notatie handiger is."
   ]
  },
  {
   "cell_type": "markdown",
   "metadata": {},
   "source": [
    "$\\textbf{Opdracht 5: bepaal coefficienten in eenvoudig LTI systeem}$     \n",
    "Gegeven het volgende LTI systeem:   \n",
    "$y[n] + 8.1 \\cdot y[n-3] + 4.1 \\cdot x[n-3] = 1.2 \\cdot y[n-1] - 3.2 \\cdot y[n-2] + 2.0 \\cdot x[n]$    \n",
    "\n",
    "Bepaal de waarden van de coefficienten $a_0$, $a_1$, $a_2$, $a_3$, $b_0$, $b_1$, $b_2$, $b_3$ van dit LTI systeem. Zoals aangegeven, gebruik de notatie als in formule (3.9) uit het boek van Wang. \n",
    "\n",
    "Je schrijft de antwoorden weg in arrays `opg05a_val` voor de vier gevraagde $a$-coefficienten (in de volgorde $a_0$, $a_1$, $a_2$, $a_3$), en in `opg05b_val` voor de vier gevraagde $b$-coefficienten (in de volgorde $b_0$, $b_1$, $b_2$, $b_3$)\n",
    "\n",
    "(NB in bovenstaande formule wordt in de cijfers de puntnotatie gebruikt daar waar in Nederlandstalige stukken vaak de komma wordt gebruikt. Dus het rechterlid is: een komma twee keer y[n-1] min drie komma twee keer y[n-2] plus twee komma nul keer x[n])\n"
   ]
  },
  {
   "cell_type": "code",
   "execution_count": null,
   "metadata": {},
   "outputs": [],
   "source": [
    "# geef de a-coefficienten\n",
    "opg05a_val = np.array( [ 0.0, 0.0, 0.0, 0.0] )   \n",
    "\n",
    "# geef de b-coefficienten\n",
    "opg05b_val = np.array( [ 0.0, 0.0, 0.0, 0.0] )   \n"
   ]
  },
  {
   "cell_type": "markdown",
   "metadata": {},
   "source": [
    "$\\textbf{Opdracht 6 (voorbeeld 3.1a uit boek) met Python-functie dsp.lti_tijdrespons}$     \n",
    "In module `module_dsp.py` zit de Python-functie `dsp.lti_tijdrespons`. Bestudeer de beschrijving van de help-functie. \n",
    "\n",
    "Vul onderstaande Python-code aan om de impulsresponsie van voorbeeld 3.1a op pagina 30 van het boek van Wang met Python uit te rekenen. Gebruik hiervoor de Python-functie `dsp.lti_tijdrespons`. Gebruik de variabele-naam `opg06_h_out` voor de uitvoer."
   ]
  },
  {
   "cell_type": "code",
   "execution_count": null,
   "metadata": {},
   "outputs": [],
   "source": [
    "N     = 10   # Aantal tijdpunten\n",
    "n_val = np.arange(N)\n",
    "\n",
    "# Zet hieronder de code horende bij Opdracht 6\n",
    "opg06_h_out = 0\n",
    "\n",
    "\n",
    "\n",
    "# LAAT ONDERSTAANDE STAAN !!!\n",
    "print(opg06_h_out)\n",
    "# --- Maak figuur\n",
    "fig_info = {'xlabel':'n', 'ylabel':'h[n]', 'title':'example 3.1a',\n",
    "            'xdata':[n_val],'ydata':[opg06_h_out], 'label':['h[n]'],\n",
    "            'markerstyle':['ro']}\n",
    "dsp.fig_plot(fig_info,'stemplot')"
   ]
  },
  {
   "cell_type": "markdown",
   "metadata": {},
   "source": [
    "<div class=\"alert alert-block alert-danger\"\n",
    "     \n",
    "     Antwoord bovenstaande opdracht: \n",
    "     \n",
    "     opg06_h_out = [3. 1. 4. 0. 0. 0. 0. 0. 0. 0.]"
   ]
  },
  {
   "cell_type": "markdown",
   "metadata": {},
   "source": [
    "$\\textbf{Opdracht 7 (voorbeeld 3.1b uit boek) met Python-functie dsp.lti_tijdrespons}$     \n",
    "Vul onderstaande Python-code aan om de impulsresponsie van voorbeeld 3.1b op pagina 30 en 31 van het boek van Wang met Python uit te rekenen.\n",
    "Gebruik hiervoor de Python-functie `dsp.lti_tijdrespons`.  Gebruik de variabele-naam `opg07_h_out` voor de uitvoer."
   ]
  },
  {
   "cell_type": "code",
   "execution_count": null,
   "metadata": {},
   "outputs": [],
   "source": [
    "N     = 10   # Aantal tijdpunten\n",
    "n_val = np.arange(N)\n",
    "\n",
    "# Zet hieronder de code horende bij Opdracht 7\n",
    "opg07_h_out = 0\n",
    "\n",
    "\n",
    "# LAAT ONDERSTAANDE STAAN !!!\n",
    "print(opg07_h_out)\n",
    "# Maak figuur\n",
    "fig_info = {'xlabel':'n', 'ylabel':'h[n]', 'title':'example 3.1b',\n",
    "            'xdata':[n_val],'ydata':[opg07_h_out], 'label':['h[n]'],\n",
    "            'markerstyle':['ro']}\n",
    "dsp.fig_plot(fig_info,'stemplot')"
   ]
  },
  {
   "cell_type": "markdown",
   "metadata": {},
   "source": [
    "<div class=\"alert alert-block alert-danger\"\n",
    "     \n",
    "     Antwoord bovenstaande opdracht: \n",
    "     \n",
    "    opg07_h_out = [ 1.          1.5         1.4         0.825       ...  -0.576275   -0.06323437]"
   ]
  },
  {
   "cell_type": "markdown",
   "metadata": {},
   "source": [
    "$\\textbf{Opdracht 8: bepaal coefficienten in LTI systeem met differentiaal vergelijking}$     \n",
    "Gegeven de volgende eerste orde differentiaal vergelijking:   \n",
    "\n",
    "$C\\frac{dy}{dt} + Dy(t) = E\\frac{dx}{dt} + Fx(t)$    \n",
    "\n",
    "Hierin zijn $C$, $D$, $E$ en $F$ constanten. \n",
    "\n",
    "Bepaal coefficienten $a_0$, $a_1$, $b_0$ en $b_1$ van het algemene LTI systeem zoals gegeven in de notatie van vergelijking (3.9) uit het boek van Wang. Gebruik symbool $\\Delta t$ voor het bemonsteringsinterval. Schaal je antwoord zodanig dat $a_0 = 1$. (Je hoeft alleen het eindantwoord te geven. De afleiding hoef je hier dus niet te geven)\n"
   ]
  },
  {
   "cell_type": "markdown",
   "metadata": {},
   "source": [
    "<span style=\"color:red\">     \n",
    "VERVANG DEZE TEKST DOOR JOUW ANTWOORD OP BOVENSTAANDE VRAAG. ZORG ERVOOR DAT DE TEKST IN HET ROOD BLIJFT.\n",
    "</span> "
   ]
  },
  {
   "cell_type": "markdown",
   "metadata": {},
   "source": [
    "$\\textbf{Opdracht 9: berekening van convolutie met Python-functie dsp.convolution}$     \n",
    "In module `module_dsp.py` zit de Python-functie `dsp.convolution`. Bestudeer de beschrijving van de help-functie. \n",
    "\n",
    "Gegeven is dat $x[n] = [4, 5, 6, 7, 8]$ en $y[n] = [0.5, 0.25, 0.125, 0.0625, 0.03125]$. Voor $n < 0$ zijn $x$ en $y$ gelijk aan nul. Vul onderstaande Python code aan om deze functie de convolutie $z[n] = x[n]*y[n]$ te berekenen. Gebruik de variabele-naam `opg09_z` voor de uitvoer."
   ]
  },
  {
   "cell_type": "code",
   "execution_count": null,
   "metadata": {},
   "outputs": [],
   "source": [
    "# Zet hieronder de code horende bij Opdracht 9\n",
    "opg09_z = 0\n",
    "\n",
    "\n",
    "# LAAT ONDERSTAANDE STAAN !!!\n",
    "# Print resultaat naar scherm\n",
    "print('opg09_z = ',opg09_z)"
   ]
  },
  {
   "cell_type": "markdown",
   "metadata": {},
   "source": [
    "<div class=\"alert alert-block alert-danger\"\n",
    "     \n",
    "     Antwoord bovenstaande opdracht: \n",
    "     \n",
    "     opg09_z =  [2.     3.5    ...  6.9375]"
   ]
  },
  {
   "cell_type": "markdown",
   "metadata": {},
   "source": [
    "$\\textbf{Opdracht 10: berekening van de response van een LTI systeem - vraag a}$     \n",
    "Gegeven is het LTI systeem:\n",
    "\n",
    "$y[n] - 0.5y[n-1] = 0.5x[n]$\n",
    "\n",
    "met $x[n] = [4,5,6,7,8,...]$. (waarden van $x[n]$ blijven steeds met 1 toenemen). Voor $n < 0$ zijn $x$ en $y$ gelijk aan nul. \n",
    "\n",
    "Bereken de responsie $y[0]$ t/m $y[10]$  (dit zijn dus $\\textbf{11}$ uitvoerelementen). Gebruik de variabele-naam `opg10_y` voor de uitvoer."
   ]
  },
  {
   "cell_type": "code",
   "execution_count": null,
   "metadata": {},
   "outputs": [],
   "source": [
    "# Zet hieronder de code horende bij Opdracht 10\n",
    "opg10_y = 0\n",
    "\n",
    "\n",
    "# LAAT ONDERSTAANDE STAAN !!!\n",
    "# Schrijf rsultaten naar scherm\n",
    "print('opg10_y[0] t/m opg10_y[10] = ',opg10_y)\n"
   ]
  },
  {
   "cell_type": "markdown",
   "metadata": {},
   "source": [
    "<div class=\"alert alert-block alert-danger\"\n",
    "     \n",
    "     Antwoord bovenstaande opdracht: \n",
    "     \n",
    "     opg10_y =  [ 2.          3.5         4.75        5.875       ...  11.99804688 12.99902344]"
   ]
  },
  {
   "cell_type": "markdown",
   "metadata": {},
   "source": [
    "$\\textbf{Opdracht 11: berekening van de response van een LTI systeem - vraag b}$     \n",
    "Gegeven is hetzelfde LTI systeem:\n",
    "\n",
    "$y[n] - 0.5y[n-1] = 0.5x[n]$\n",
    "\n",
    "met $x[n] = [4,5,6,7,8,...]$. (waarden van $x[n]$ blijven steeds met 1 toenemen)\n",
    "\n",
    "(i) Bereken de impulsresponsie $h[0]$ t/m $h[10]$. Gebruik de variabele-naam `opg11_h` voor de impulsresponsie.\n",
    "(ii) Gebruik vervolgens de impulsresponsie en de waarden van $x[n]$ om de responsie $y[0]$ t/m $y[10]$ te vinden. Gebruik de variabele-naam `opg11_y` voor de responsie $y$."
   ]
  },
  {
   "cell_type": "code",
   "execution_count": null,
   "metadata": {},
   "outputs": [],
   "source": [
    "# Zet hieronder de code horende bij Opdracht 11\n",
    "opg11_h = 0\n",
    "opg11_y = 0\n",
    "\n",
    "\n",
    "# LAAT ONDERSTAANDE STAAN !!!\n",
    "# Schrijf resultaten naar scherm\n",
    "print('opg11_h[0] t/m opg11_h[10] = ',opg11_h,'\\n')\n",
    "print('opg11_y[0] t/m opg11_y[10] = ',opg11_y)\n"
   ]
  },
  {
   "cell_type": "markdown",
   "metadata": {},
   "source": [
    "<div class=\"alert alert-block alert-danger\"\n",
    "     \n",
    "     Antwoorden bovenstaande opdracht: \n",
    "     \n",
    "     opg11_h =  [5.0000000e-01 2.5000000e-01  ... 1.9531250e-03 9.7656250e-04  4.8828125e-04] \n",
    "     \n",
    "     opg11_y =  [ 2.          3.5         4.75        5.875       ...  11.99804688 12.99902344]"
   ]
  },
  {
   "cell_type": "markdown",
   "metadata": {},
   "source": [
    "# Week 3 - DFT\n",
    "\n"
   ]
  },
  {
   "cell_type": "markdown",
   "metadata": {},
   "source": [
    "# Te bestuderen stof\n",
    "\n"
   ]
  },
  {
   "cell_type": "markdown",
   "metadata": {},
   "source": [
    "De volgende stof wordt in dit deel van het Jupyter notebook behandeld:\n",
    "\n",
    "* Deel van Hoofdstuk 4 (sectie 4.1, 4.2, 4.3) van het boek van Wang. \n",
    "* Hoofdstuk 6 van het boek van Wang     \n",
    "* Hoofdstuk 2 van de leeswijzer bij dit vak\n",
    "\n",
    "Verder gaan we ervan uit dat je de eerder behandelde stof beheerst."
   ]
  },
  {
   "cell_type": "markdown",
   "metadata": {},
   "source": [
    "# De DFT - functie dsp.tijdsignaal_naar_spectrum"
   ]
  },
  {
   "cell_type": "markdown",
   "metadata": {},
   "source": [
    "In module `module_dsp.py` zit een Python-functie `dsp.tijdsignaal_naar_spectrum` die een tijdsignaal $x(t)$ omzet naar een (complex) spectrum $X(f)$. Dit is een zogenaamd eenzijdig spectrum: de frequentie loopt van 0 Hz tot en met de Nyquist frequentie. Bestudeer de help-beschrijving van deze functie. "
   ]
  },
  {
   "cell_type": "markdown",
   "metadata": {},
   "source": [
    "$\\textbf{Voorbeeld.}$     \n",
    "Hieronder staat een voorbeeld van het gebruik van deze functie. \n",
    "(Je hoeft de Python code alleen maar te draaien. Je hoeft er niets aan te veranderen)."
   ]
  },
  {
   "cell_type": "code",
   "execution_count": null,
   "metadata": {},
   "outputs": [],
   "source": [
    "# dsb_opdracht001\n",
    "# Creeer tijdas\n",
    "Nt = 60\n",
    "t = np.linspace(0,2.0,Nt,endpoint=False)\n",
    "\n",
    "# Verschillende componenten\n",
    "f1 = 2.0      # Frequentie van het tijdsignaal\n",
    "A1 = 1.5      # Amplitude\n",
    "phi1 = 0.6    # Fase\n",
    "\n",
    "f2 = 5.0      # Frequentie van het tijdsignaal\n",
    "A2 = 0.9      # Amplitude\n",
    "phi2 = 1.9    # Fase\n",
    "    \n",
    "# Het tijdsignaal zelf\n",
    "x_tijd = A1*np.cos(2*np.pi*f1*t+phi1) +  A2*np.cos(2*np.pi*f2*t+phi2)\n",
    "\n",
    "# Bereken het complexe spectrum\n",
    "f,X_freq = dsp.tijdsignaal_naar_spectrum(t,x_tijd)\n",
    "\n",
    "# Figuur 1\n",
    "fig_info = {'xlabel':'t (s)', 'ylabel':'x', \n",
    "            'title':'Tijdsignaal',\n",
    "            'xdata':[t], 'ydata':[x_tijd], \n",
    "            'markerstyle':['rx'],\n",
    "            'label':['x(t)']}\n",
    "dsp.fig_plot(fig_info,'lineplot')\n",
    "\n",
    "# Figuur 2\n",
    "fig_info = {'xlabel':'f (Hz)', 'ylabel':'X(f)', \n",
    "            'title':'Absolute waarde van spectrum',\n",
    "            'xdata':[f], \n",
    "            'ydata':[np.abs(X_freq)], \n",
    "            'markerstyle':['gx'],\n",
    "            'label':['|X(f)|']}\n",
    "dsp.fig_plot(fig_info,'lineplot')\n",
    "\n",
    "# Figuur 3\n",
    "fig_info = {'xlabel':'f (Hz)', 'ylabel':'X(f)', \n",
    "            'title':'Complex spectrum',\n",
    "            'xdata':[f], \n",
    "            'ydata':[X_freq], \n",
    "            'markerstyle':['kx'],\n",
    "            'label':['X(f)']}\n",
    "dsp.fig_plot(fig_info,'freqplot')"
   ]
  },
  {
   "cell_type": "markdown",
   "metadata": {},
   "source": [
    "$\\textbf{Vraag 21}$     \n",
    "Bestudeer de Python code en de vier gemaakte figuren van hierboven. Merk op dat de tweede figuur (groene lijn) en derde figuur (zwarte lijn) aan elkaar gelijk zijn. Geef hieronder antwoord op de volgende vragen.\n",
    "* Leg in eigen woorden uit wat het verband tussen de bovenste (rode lijn) en tweede (groene lijn) figuur is. Gebruik in je antwoord de termen: tijdsignaal, spectrum, frequentiepieken. \n",
    "* Leg in eigen woorden uit wat de getoonde grootheden |X(f)| (= derde figuur (zwarte lijn)) en arg(X(f)) (onderste figuur (zwarte lijn)) betekenen."
   ]
  },
  {
   "cell_type": "markdown",
   "metadata": {},
   "source": [
    "<span style=\"color:red\">\n",
    "VERVANG DEZE TEKST DOOR JOUW ANTWOORD OP BOVENSTAANDE VRAGEN. ZORG ERVOOR DAT DE TEKST IN HET ROOD BLIJFT.\n",
    "\n",
    "</span> "
   ]
  },
  {
   "cell_type": "markdown",
   "metadata": {},
   "source": [
    "$\\textbf{Opdracht}$     \n",
    "Met onderstaande functie-aanroep naar `dsb_opdracht020` wordt een tijdserie gemaakt. \n",
    "\n",
    "Voeg daar zelf het berekenen van het spectrum daarvan aan toe. "
   ]
  },
  {
   "cell_type": "code",
   "execution_count": null,
   "metadata": {},
   "outputs": [],
   "source": [
    "# Maak tijdserie\n",
    "t,x_tijd = dsp_op.dsp_opdracht020( 12345678 )\n",
    "\n",
    "# --- Zet hieronder de code die nodig is voor de opdracht \n",
    "f = 0\n",
    "X_freq = 0\n",
    "\n",
    "\n",
    "\n",
    "# LAAT ONDERSTAANDE STAAN !!!\n",
    "# --- Maak figuren\n",
    "fig_info = {'xlabel':'t (s)', 'ylabel':'x', \n",
    "            'title':'Tijdsignaal',\n",
    "            'xdata':[t], 'ydata':[x_tijd], \n",
    "            'markerstyle':['r'],\n",
    "            'label':['x(t)']}\n",
    "dsp.fig_plot(fig_info,'lineplot')\n",
    "\n",
    "fig_info = {'xlabel':'f (Hz)', 'ylabel':'X(f)', \n",
    "            'title':'Complex spectrum',\n",
    "            'xdata':[f], \n",
    "            'ydata':[X_freq], \n",
    "            'markerstyle':['r'],\n",
    "            'label':['X(f)']}\n",
    "dsp.fig_plot(fig_info,'freqplot')\n",
    "\n",
    "\n"
   ]
  },
  {
   "cell_type": "markdown",
   "metadata": {},
   "source": [
    "$\\textbf{Vraag 22}$     \n",
    "Geef aan voor welke frequentieband(en) er een relatief groot signaal is. Is/zijn er ook frequentiepiek(en)? Zo ja, waar ligt/liggen die dan? \n"
   ]
  },
  {
   "cell_type": "markdown",
   "metadata": {},
   "source": [
    "<span style=\"color:red\">\n",
    "VERVANG DEZE TEKST DOOR JOUW ANTWOORD OP BOVENSTAANDE VRAAG. ZORG ERVOOR DAT DE TEKST IN HET ROOD BLIJFT.\n",
    "\n",
    "</span> "
   ]
  },
  {
   "cell_type": "markdown",
   "metadata": {},
   "source": [
    "$\\textbf{Opdracht 23}$     \n",
    "In module `module_dsp.py` is ook een fucntie waarmee je een (eenzijdig) complex spectrum kunt omzetten naar een tijdsignaal.    \n",
    "Zoek uit welke functie dat is. Pas deze functie toe op het spectrum `X_freq` dat je hierboven bepaald hebt. Vergelijk de op deze manier verkregen tijdserie met de oorspronkelijke tijdserie door ze in een figuur te tonen.(Hint: bedenk wat de inverse van een inverse is)\n"
   ]
  },
  {
   "cell_type": "code",
   "execution_count": null,
   "metadata": {},
   "outputs": [],
   "source": [
    "# --- Zet hieronder de code die nodig is voor de opdracht\n",
    "t_recover = 0\n",
    "x_tijd_recover = 0\n",
    "\n",
    "# LAAT ONDERSTAANDE STAAN !!!\n",
    "fig_info = {'xlabel':'t (s)', 'ylabel':'x', \n",
    "            'title':'Tijdsignaal',\n",
    "            'xdata':[t,t_recover], 'ydata':[x_tijd,x_tijd_recover], \n",
    "            'markerstyle':['rx','k'],\n",
    "            'label':['x(t) origineel','x(t) recover']}\n",
    "dsp.fig_plot(fig_info,'lineplot')"
   ]
  },
  {
   "cell_type": "markdown",
   "metadata": {},
   "source": [
    "<div class=\"alert alert-block alert-danger\"\n",
    "     \n",
    "     x_tijd en x_tijd_recover moeten identiek zijn (dus in de grafiek over elkaar heen liggen)"
   ]
  },
  {
   "cell_type": "markdown",
   "metadata": {},
   "source": [
    "$\\textbf{Opdracht 24}$     \n",
    "Herhaal nu bovenstaande opdracht, maar pas de gevonden functie nu toe op het amplitudespectrum van `X_freq`. Dus met andere woorden: je zet het amplitudespectrum `np.abs(X_freq)` om naar een tijdserie. Vergelijk deze met de oorspronkelijk verkregen tijdserie."
   ]
  },
  {
   "cell_type": "code",
   "execution_count": null,
   "metadata": {
    "scrolled": true
   },
   "outputs": [],
   "source": [
    "# --- Zet hieronder de code die nodig is voor de opdracht\n",
    "t_recover = 0\n",
    "x_tijd_recover = 0\n",
    "\n",
    "\n",
    "# LAAT ONDERSTAANDE STAAN !!!\n",
    "fig_info = {'xlabel':'t (s)', 'ylabel':'x', \n",
    "            'title':'Tijdsignaal',\n",
    "            'xdata':[t,t_recover], 'ydata':[x_tijd,x_tijd_recover], \n",
    "            'markerstyle':['rx','k'],\n",
    "            'label':['x(t) origineel','x(t) recover']}\n",
    "dsp.fig_plot(fig_info,'lineplot')"
   ]
  },
  {
   "cell_type": "markdown",
   "metadata": {},
   "source": [
    "<div class=\"alert alert-block alert-danger\"\n",
    "     \n",
    "     x_tijd en x_tijd_recover zijn nu niet hetzelfde"
   ]
  },
  {
   "cell_type": "markdown",
   "metadata": {},
   "source": [
    "$\\textbf{Opdracht 25}$     \n",
    "* Kun je uit het complexe spectrum `X_freq` de oorspronkelijke tijdserie `x_time` weer reconstrueren? Licht je antwoord toe.\n",
    "* Kun je uit het amplitudespectrum `np.abs(X_freq)` de oorspronkelijke tijdserie `x_time` weer reconstrueren? Licht je antwoord toe.\n"
   ]
  },
  {
   "cell_type": "markdown",
   "metadata": {},
   "source": [
    "<span style=\"color:red\">\n",
    "VERVANG DEZE TEKST DOOR JOUW ANTWOORD OP BOVENSTAANDE VRAAG. ZORG ERVOOR DAT DE TEKST IN HET ROOD BLIJFT.\n",
    "\n",
    "</span> "
   ]
  },
  {
   "cell_type": "markdown",
   "metadata": {},
   "source": [
    "# DFT - verdere oefeningen met spectra"
   ]
  },
  {
   "cell_type": "markdown",
   "metadata": {},
   "source": [
    "$\\textbf{Opdracht 26}$     \n",
    "Hierboven hebben we een aantal keer de functie `dsp.tijdsignaal_naar_spectrum` gebruik om spectra van tijdsignalen uit te rekenen. Een belangrijk onderdeel daarin is de bepaling van de frequentie-as. Bestudeer eventueel nog even Sectie 2.4 van de leeswijzer'.\n",
    "\n",
    "Schrijf hieronder een Python functie waarmee je, gegeven een willekeurige Python-array met tijdas `t` met daarin equidistante en opeenvolgende tijdstippen, de bijbehorende frequentie-as `f` van 0 Hz tot en met de Nyquist-frequentie geeft.\n",
    "\n",
    "Vervolgens bereken je met de code de twee gevraagde frequentie-assen `opg26_f1` en `opg26_f2` op basis van de gegeven tijdassen `t1` en `t2`"
   ]
  },
  {
   "cell_type": "code",
   "execution_count": null,
   "metadata": {},
   "outputs": [],
   "source": [
    "# --- Vul onderstaande functie aan voor opdracht \n",
    "def maak_dft_freq_as(t):\n",
    "    f = 0\n",
    "    return f\n",
    "\n",
    "# LAAT ONDERSTAANDE STAAN !!!\n",
    "# --- Twee verschillende tijdassen\n",
    "t1 = np.linspace(0,7.0,9)\n",
    "t2 = np.linspace(0,7.0,10)\n",
    "\n",
    "# --- Frequentie-assen\n",
    "opg26_f1 = maak_dft_freq_as(t1)\n",
    "opg26_f2 = maak_dft_freq_as(t2)\n",
    "\n",
    "# --- Schrijf resultaten naar scherm\n",
    "print('opg26_f1 = ',opg26_f1)\n",
    "print('opg26_f2 = ',opg26_f2)"
   ]
  },
  {
   "cell_type": "markdown",
   "metadata": {},
   "source": [
    "<div class=\"alert alert-block alert-danger\"\n",
    "     \n",
    "     Afgeronde antwoorden bovenstaande opdracht: \n",
    "     \n",
    "     opg26_f1 =  [0 0.14 0.29 0.43 0.57]\n",
    "     \n",
    "     opg26_f2 =  [0 0.13 0.26 0.39 0.51 0.64]"
   ]
  },
  {
   "cell_type": "markdown",
   "metadata": {},
   "source": [
    "$\\textbf{Opdracht.}$   \n",
    "Draai onderstaande code (je hoeft de code zelf niet te veranderen.)."
   ]
  },
  {
   "cell_type": "code",
   "execution_count": null,
   "metadata": {},
   "outputs": [],
   "source": [
    "t_fig_label,t_totaal,x_totaal,S_fig_label,f_perm_totaal,S_abs_perm_totaal = \\\n",
    "dsp_op.dsp_opdracht030(studentnummer)\n",
    "\n",
    "fig_info = {'xlabel':['t [s]','t [s]','t [s]','t [s]'],\n",
    "            'ylabel':['x [m]','x [m]','x [m]','x [m]'], \n",
    "            'title':t_fig_label,\n",
    "            'xdata':t_totaal, \n",
    "            'ydata':x_totaal, \n",
    "            'markerstyle':['r','r','r','r']}\n",
    "fig_style = ['lineplot','lineplot','lineplot','lineplot']\n",
    "dsp.fig_4plot(fig_info,fig_style)\n",
    "\n",
    "fig_info = {'xlabel':['f [Hz]','f [Hz]','f [Hz]','f [Hz]'],\n",
    "            'ylabel':['|X(f)|','|X(f)|','|X(f)|','|X(f)|'], \n",
    "            'title':S_fig_label,\n",
    "            'xdata':f_perm_totaal, \n",
    "            'ydata':S_abs_perm_totaal, \n",
    "            'markerstyle':['r','r','r','r']}\n",
    "fig_style = ['lineplot','lineplot','lineplot','lineplot']\n",
    "dsp.fig_4plot(fig_info,fig_style)"
   ]
  },
  {
   "cell_type": "markdown",
   "metadata": {},
   "source": [
    "$\\textbf{Opdracht 27}$     \n",
    "Je ziet hierboven vier amplitude-spectra (Fig A t/m D) en vier tijdseries (fig 1 t/m 4). Bij ieder spectrum hoort een tijdserie. Geef aan welke tijdserie bij welk spectrum hoort."
   ]
  },
  {
   "cell_type": "markdown",
   "metadata": {},
   "source": [
    "<span style=\"color:red\">\n",
    "GEEF JOUW ANTWOORD OP BOVENSTAANDE VRAAG. ZORG ERVOOR DAT DE TEKST IN HET ROOD BLIJFT.\n",
    "    \n",
    "* Figuur A hoort bij figuur ....\n",
    "* Figuur B hoort bij figuur ....\n",
    "* Figuur C hoort bij figuur ....\n",
    "* Figuur D hoort bij figuur ....\n",
    "\n",
    "</span> "
   ]
  },
  {
   "cell_type": "code",
   "execution_count": null,
   "metadata": {},
   "outputs": [],
   "source": []
  },
  {
   "cell_type": "markdown",
   "metadata": {},
   "source": [
    "$\\textbf{Opdracht.}$   \n",
    "Draai onderstaande code (je hoeft de code zelf niet te veranderen.)."
   ]
  },
  {
   "cell_type": "code",
   "execution_count": null,
   "metadata": {},
   "outputs": [],
   "source": [
    "# Draai code\n",
    "stnummer = 12345678\n",
    "t1,t2,x1,x2,f1,f2,X_freq1,X_freq2 = dsp_op.dsp_opdracht040(stnummer)\n",
    "\n",
    "fig_info = {'xlabel':['t [s]','t [s]','f [Hz]','f [Hz]'],\n",
    "            'ylabel':['x [m]','x [m]','|X(f)|','|X(f)|'], \n",
    "            'title':['x1(t)','x2(t)','|X1(f)|','|X2(f)|'],\n",
    "            'xdata':[t1,t2,f1,f2], \n",
    "            'ydata':[x1,x2,np.abs(X_freq1),np.abs(X_freq2)], \n",
    "            'markerstyle':['r','r','ro','ro']}\n",
    "fig_style = ['lineplot','lineplot','lineplot','lineplot']\n",
    "dsp.fig_4plot(fig_info,fig_style)"
   ]
  },
  {
   "cell_type": "markdown",
   "metadata": {},
   "source": [
    "$\\textbf{Opdracht 28}$      \n",
    "Gegeven een periodiek tijdsignaal (dus met vaste amplitude, frequentie en fase). Van dit (in principe oneindig lange) tijdsignaal nemen we twee tijdvensters: een van 10 s (figuur linksboven) en een van 11 s (figuur rechtsboven). Van deze tijdvensters maken we spectra. Het figuur linksonder toont het amplitudespectrum van het tijdvenster van linksboven. Het figuur rechtsonder toont het amplitudespectrum van het tijdvenster van rechtsboven. Wanneer je de twee onderste figuren met elkaar vergelijkt, zie je dat beide spectra duidelijk van elkaar verschillen. Het is duidelijk dat het linkerspectrum beter past bij het periodieke tijdsignaal. \n",
    "\n",
    "* Leg uit waarom het linkerspectrum beter past bij het periodieke tijdsignaal\n",
    "* Leg in eigen woorden uit hoe het komt dat het spectrum van het rechterfiguur zoveel afwijkt van het linkerspectrum. Met andere woorden: leg in eigen woorden uit wat de oorzaak is van dit ongewenste fenomeen.\n"
   ]
  },
  {
   "cell_type": "markdown",
   "metadata": {},
   "source": [
    "<span style=\"color:red\">\n",
    "VERVANG DEZE TEKST DOOR JOUW ANTWOORD OP BOVENSTAANDE VRAAG. ZORG ERVOOR DAT DE TEKST IN HET ROOD BLIJFT.\n",
    "</span> \n"
   ]
  },
  {
   "cell_type": "markdown",
   "metadata": {},
   "source": [
    "Dit ongewenste fenomeen heet 'spectral leakage'. In Hoofdstuk 7 van Wang wordt hier meer over geschreven. Hoewel dit geen toets-stof, is het wel goed om daar iets van te weten. Daarom geven we hieronder een korte toelichting over hoe je 'spectral leakage' kunt beperken. \n",
    "\n",
    "Een manier om 'spectral leakage' te beperken, is het toepassen van een 'Hamming window' in het tijd-domein. Hieronder staat een voorbeeld van de toepassing van een 'Hamming window'.Een manier om bovenstaande ongewenste fenomeen te beperken, is het toepassen van een 'Hamming window' in het tijd-domein. Vul onderstaande Python-code aan zodat je het oorspronkelijke amplitudespectrum $|X2(f)|$ samen in een figuur plot met het amplitudespectrum dat is ontstaan na toepassing van een 'Hamming window'. \n",
    "\n",
    "Je ziet dat het ongewenste effect van het 'weglekken / uitsmeren' van het spectrum wat minder geworden is. "
   ]
  },
  {
   "cell_type": "code",
   "execution_count": null,
   "metadata": {
    "scrolled": true
   },
   "outputs": [],
   "source": [
    "f2 = 0.0\n",
    "X_freq_hamm2 = 0.0\n",
    "\n",
    "# Bereken Hamming window\n",
    "Nt = len(t2)\n",
    "w_hamm = dsp.window(Nt,'hamming')\n",
    "\n",
    "# Bereken tijdserie vermenigvuldigd met windows\n",
    "x_hamm2 = x2 * w_hamm\n",
    "\n",
    "# Bereken het complexe spectrum van de originele tijdserie\n",
    "f2,X_freq2 = dsp.tijdsignaal_naar_spectrum(t2,x2)\n",
    "\n",
    "# Bereken het complexe spectrum van het gewindowde tijdserie\n",
    "f_hamm2,X_freq_hamm2 = dsp.tijdsignaal_naar_spectrum(t2,x_hamm2)\n",
    "\n",
    "# LAAT ONDERSTAANDE STAAN !!!\n",
    "# --- Maak figuur\n",
    "fig_info = {'xlabel':'t (s)', 'ylabel':'x', \n",
    "            'title':'Tijdsignaal',\n",
    "            'xdata':[t2,t2], 'ydata':[x2,x_hamm2], \n",
    "            'markerstyle':['rx','k'],\n",
    "            'label':['x(t) origineel','x(t) hamming']}\n",
    "dsp.fig_plot(fig_info,'lineplot')\n",
    "\n",
    "fig_info = {'xlabel':'f (Hz)', 'ylabel':'|X(f)|', \n",
    "            'title':'Absolute waarde van spectrum van x2(t)',\n",
    "            'xdata':[f2,f_hamm2], \n",
    "            'ydata':[np.abs(X_freq2),np.abs(X_freq_hamm2)], \n",
    "            'markerstyle':['rx','ko'],\n",
    "            'label':['origineel','hamming']}\n",
    "dsp.fig_plot(fig_info,'lineplot')\n",
    "\n",
    "#print('f_hamm2 = ', f_hamm2)\n",
    "#print('X_freq_hamm2 = ', X_freq_hamm2)"
   ]
  },
  {
   "cell_type": "markdown",
   "metadata": {},
   "source": [
    "# DFT - aliasing"
   ]
  },
  {
   "cell_type": "markdown",
   "metadata": {},
   "source": [
    "$\\textbf{Opdracht.}$   \n",
    "Draai onderstaande code (je hoeft de code zelf niet te veranderen.)."
   ]
  },
  {
   "cell_type": "code",
   "execution_count": null,
   "metadata": {},
   "outputs": [],
   "source": [
    "f_waargenomen_signaal = dsp.studentnummer_one(studentnummer, 4 ) + 5.0\n",
    "f_bemonstering        = dsp.studentnummer_one(studentnummer, 3 ) + 40.0\n",
    "\n",
    "print('f_waargenomen_signaal = ' + str(f_waargenomen_signaal) + ' Hz')\n",
    "print('f_bemonstering        = ' + str(f_bemonstering) + ' Hz')"
   ]
  },
  {
   "cell_type": "markdown",
   "metadata": {},
   "source": [
    "Stel je het volgende voor. Je hebt een meting gedaan met een bemonsteringsfrequentie gelijk aan hierboven gegeven `f_bemonstering`. Uit een DFT analyse van de meting blijkt er in het spectrum een piek te zitten op de hierboven gegeven frequentie `f_waargenomen_signaal`. \n",
    "\n",
    "$\\textbf{Opdracht 29}$   \n",
    "Bereken de eerste vier frequenties waarop de fysisch echte frequentiepiek kan zitten. Beperk je tot positieve frequenties. Bestudeer hiervoor de leeswijzer.  \n",
    "\n",
    "Je schrijft de antwoorden (in Hertz) weg in array `opg29` voor de vier gevraagde frequenties. Zet ze in volgorde van klein naar groot. "
   ]
  },
  {
   "cell_type": "code",
   "execution_count": null,
   "metadata": {},
   "outputs": [],
   "source": [
    "# geef de frequenties\n",
    "opg29 = np.array( [ 0.0, 0.0, 0.0, 0.0] )   \n",
    "\n",
    "\n",
    "print(opg29)"
   ]
  },
  {
   "cell_type": "markdown",
   "metadata": {},
   "source": [
    "$\\textbf{Opdracht 30}$   \n",
    "Geef aan waarom aliasing ongewenst is. Geef ook aan hoe je in de praktijk aliasing kunt voorkomen (vermijden)."
   ]
  },
  {
   "cell_type": "markdown",
   "metadata": {},
   "source": [
    "<span style=\"color:red\">\n",
    "VERVANG DEZE TEKST DOOR JOUW ANTWOORD OP BOVENSTAANDE VRAAG. ZORG ERVOOR DAT DE TEKST IN HET ROOD BLIJFT.\n",
    "</span> "
   ]
  },
  {
   "cell_type": "markdown",
   "metadata": {},
   "source": [
    "Een voorbeeld waarbij je last zou kunnen krijgen van aliasing, is bij het meten van elektrische spanningen. Wanneer je een meting uitvoert met een frequentie lager dan `f_bemonstering`, dan kan de 50 Hz frequentie van de netspanning tot aliasing in je meetsignaal leiden. \n",
    "\n",
    "\n",
    "$\\textbf{Opdracht 31}$   \n",
    "Bepaal de waarde van kleinste waarde van `f_bemonstering` waarbij geen aliasing meer kan optreden, en licht je antwoord kort toe."
   ]
  },
  {
   "cell_type": "markdown",
   "metadata": {},
   "source": [
    "<span style=\"color:red\">\n",
    "VERVANG DEZE TEKST DOOR JOUW ANTWOORD OP BOVENSTAANDE VRAAG. ZORG ERVOOR DAT DE TEKST IN HET ROOD BLIJFT.\n",
    "</span> "
   ]
  },
  {
   "cell_type": "markdown",
   "metadata": {},
   "source": [
    "# Week 4 - Z-transformatie\n"
   ]
  },
  {
   "cell_type": "markdown",
   "metadata": {},
   "source": [
    "# Te bestuderen stof\n",
    "\n"
   ]
  },
  {
   "cell_type": "markdown",
   "metadata": {},
   "source": [
    "De volgende stof wordt in dit deel van het Jupyter notebook behandeld:\n",
    "\n",
    "* Hoofdstuk 4 (sectie 4.4 en 4.5) van het boek van Wang. \n",
    "* Hoofdstuk 5 van het boek van Wang. \n",
    "* Hoofdstuk 3 van de leeswijzer bij dit vak\n",
    "\n",
    "Verder gaan we ervan uit dat je de eerder behandelde stof beheerst."
   ]
  },
  {
   "cell_type": "markdown",
   "metadata": {},
   "source": [
    "# DFT - functie dsp.lti_freqrespons\n",
    "\n"
   ]
  },
  {
   "cell_type": "markdown",
   "metadata": {},
   "source": [
    "In module `module_dsp.py` zit een Python-functie `dsp.lti_freqrespons` die de frequentie respons $H(\\Omega)$ (=spectrum van de impulsresponsie) bepaald op basis van de coefficienten van het LTI systeem. Bestudeer de help-beschrijving van deze functie. "
   ]
  },
  {
   "cell_type": "markdown",
   "metadata": {},
   "source": [
    "$\\textbf{Opdracht}$     \n",
    "Draai onderstaande code. Deze reproduceert figuur 4.7 horende bij voorbeeld 4.7 uit het boek van Wang (pagina 54 t/m 56) met behulp van deze Python-functie.  Bestudeer de werking van onderstaande.\n",
    "\n",
    "(Merk op: het kan zijn dat in jouw plaatje met het argument (onderste plaatje) de lijn bij $\\Omega = 0$ niet goed overeenkomt met de lijn in figuur 4.7 uit het boek van Wang. Dat is geen probleem; zie ook de vraag eronder.)"
   ]
  },
  {
   "cell_type": "code",
   "execution_count": null,
   "metadata": {},
   "outputs": [],
   "source": [
    "# LAAT ONDERSTAANDE STAAN !!!\n",
    "a_val = np.array([1.0,0.8])\n",
    "b_val = np.array([1.0,-1.0])\n",
    "\n",
    "Omega  = np.linspace(0,np.pi,100)\n",
    "H_freq = dsp.lti_freqrespons(Omega,a_val,b_val)\n",
    "\n",
    "# Maak figuur\n",
    "fig_info = {'xlabel':'$\\Omega [-]$', 'ylabel':'H($\\Omega$)',\n",
    "            'title':'voorbeeld 4.7 en figuur 4.7 uit Wang',\n",
    "            'xdata':[Omega], 'ydata':[H_freq], \n",
    "            'markerstyle':['r'],\n",
    "            'label':['H']}\n",
    "dsp.fig_plot(fig_info,'freqplot')"
   ]
  },
  {
   "cell_type": "markdown",
   "metadata": {},
   "source": [
    "$\\textbf{Vraag 41.}$     \n",
    "Is dit filter een laaggdoorlaatfilter of een hoogdoorlaatfilter? Licht je antwoord kort toe."
   ]
  },
  {
   "cell_type": "markdown",
   "metadata": {},
   "source": [
    "<span style=\"color:red\">\n",
    "VERVANG DEZE TEKST DOOR JOUW ANTWOORD OP BOVENSTAANDE VRAGEN. ZORG ERVOOR DAT DE TEKST IN HET ROOD BLIJFT.\n",
    "\n",
    "</span> "
   ]
  },
  {
   "cell_type": "markdown",
   "metadata": {},
   "source": [
    "$\\textbf{Vraag 42.}$     \n",
    "Bij $\\Omega = 0$ geeft figuur 4.7 van Wang een argument (=fase) gelijk aan ongeveer 1,56. Het kan - zoals hierboven in de tekst is aangegeven - zo zijn dat het argument in jouw figuur bij $\\Omega = 0$ een andere waarde heeft (bijvoorbeed 0,0). Geef een reden waarom dat voor de situatie van figuur 4.7 geen probleem is. Met andere woorden: waarom doet de waarde van het argument bij $\\Omega = 0$ er niet toe.   "
   ]
  },
  {
   "cell_type": "markdown",
   "metadata": {},
   "source": [
    "<span style=\"color:red\">\n",
    "VERVANG DEZE TEKST DOOR JOUW ANTWOORD OP BOVENSTAANDE VRAGEN. ZORG ERVOOR DAT DE TEKST IN HET ROOD BLIJFT.\n",
    "\n",
    "</span> "
   ]
  },
  {
   "cell_type": "markdown",
   "metadata": {},
   "source": [
    "$\\textbf{Vraag 43. }$     \n",
    "Gegeven is dat het LTI systeem uit voorbeeld 4.7 en figuur 4.7 van Wang (pg 54 t/m 56) gebruikt wordt met een bemonsteringsfrequentie van 40 Hz. Bepaal door aflezen uit figuur 4.7 van Wang en toepassing van een formule hoe groot de frequentie (in Hertz) is wanneer het amplitudespectrum een waarde van 4 heeft (dus: $|H(\\Omega)|$ = 4).\n",
    "\n",
    "Licht je antwoord toe. Geef daarbij aan welke formule je gebruikt hebt"
   ]
  },
  {
   "cell_type": "markdown",
   "metadata": {},
   "source": [
    "<span style=\"color:red\">\n",
    "VERVANG DEZE TEKST DOOR JOUW ANTWOORD OP BOVENSTAANDE VRAGEN. ZORG ERVOOR DAT DE TEKST IN HET ROOD BLIJFT.\n",
    "\n",
    "</span> "
   ]
  },
  {
   "cell_type": "markdown",
   "metadata": {},
   "source": [
    "<div class=\"alert alert-block alert-danger\"\n",
    "     \n",
    "     Hint bovenstaande opdracht: \n",
    "     \n",
    "     Frequentie zit tussen 15 en 20 Hz. (als jouw antwoord in dit bereik zit, dan heb je het waarschijnlijk goed gedaan. Bepaling preciezere waarde laat ik aan jou over ...)"
   ]
  },
  {
   "cell_type": "markdown",
   "metadata": {},
   "source": [
    "# DFT - functie dsp.zeros_poles_plot"
   ]
  },
  {
   "cell_type": "markdown",
   "metadata": {},
   "source": [
    "In module `module_dsp.py` zit een Python-functie `dsp.zeros_poles_plot` die een plot van de polen en nulpunten maakt. Bestudeer de help-beschrijving van deze functie. "
   ]
  },
  {
   "cell_type": "markdown",
   "metadata": {},
   "source": [
    "$\\textbf{Opdracht 44 }$     \n",
    "Reproduceer figuur 5.4 horende bij voorbeeld 5.4 uit het boek van Wang (pagina 68 en 69) met behulp van deze Python-functie.  "
   ]
  },
  {
   "cell_type": "code",
   "execution_count": null,
   "metadata": {},
   "outputs": [],
   "source": [
    "# Zet hieronder de code die nodig is voor opdracht \n"
   ]
  },
  {
   "cell_type": "markdown",
   "metadata": {},
   "source": [
    "<div class=\"alert alert-block alert-danger\"\n",
    "     \n",
    "     Dit moet dus overeenkomen met figuur 5.4 uit Wang."
   ]
  },
  {
   "cell_type": "markdown",
   "metadata": {},
   "source": [
    "# DFT - functie dsp.lti_freqrespons_zeros_poles"
   ]
  },
  {
   "cell_type": "markdown",
   "metadata": {},
   "source": [
    "In module `module_dsp.py` zit een Python-functie `dsp.lti_freqrespons_zeros_poles` die de frequentierespons van een LTI systeem maakt op basis van de bijbehorende polen en nulpunten. Bestudeer de help-beschrijving van deze functie. "
   ]
  },
  {
   "cell_type": "markdown",
   "metadata": {},
   "source": [
    "$\\textbf{Opdracht 45. }$     \n",
    "Reproduceer figuur 5.8 horende bij voorbeeld 5.9 uit het boek van Wang (pagina 76 en 77) met behulp van deze Python-functie. \n",
    "\n",
    "Kies een voldoende fijne as voor de relatieve hoekfrequentie $\\Omega$ (100 punten is voldoende)."
   ]
  },
  {
   "cell_type": "code",
   "execution_count": null,
   "metadata": {},
   "outputs": [],
   "source": [
    "# Zet hieronder de code die nodig is voor opdracht \n",
    "Omega = 0.0\n",
    "H = 0.0\n",
    "\n",
    "# LAAT ONDERSTAANDE STAAN !!!\n",
    "# Maak figuren\n",
    "fig_info = {'xlabel':'$\\Omega$', 'ylabel':'H($\\Omega$)',\n",
    "            'title':'example 5.9 uit wang',\n",
    "            'xdata':[Omega], 'ydata':[H], \n",
    "            'markerstyle':['k'],\n",
    "            'label':['H']}\n",
    "dsp.fig_plot(fig_info,'freqplot')"
   ]
  },
  {
   "cell_type": "markdown",
   "metadata": {},
   "source": [
    "<div class=\"alert alert-block alert-danger\"\n",
    "     \n",
    "     Dit moet dus overeenkomen met figuur 5.8 uit Wang."
   ]
  },
  {
   "cell_type": "markdown",
   "metadata": {},
   "source": [
    "$\\textbf{Opdracht 46.}$     \n",
    "Beantwoord de volgende vragen over bovenstaande overdrachtsfunctie (dwz de overdrachtsfunctie horende bij voorbeeld 5.9 uit het boek van Wang (pagina 76 en 77)). Geef steeds een korte toelichting.\n",
    "* Hoort deze overdrachtsfunctie bij een LTI systeem?\n",
    "* Is dit een minimum-fase systeem?\n",
    "* Is dit een causaal systeem?\n",
    "* Is dit een stabiel systeem?"
   ]
  },
  {
   "cell_type": "markdown",
   "metadata": {},
   "source": [
    "<span style=\"color:red\">\n",
    "VERVANG DEZE TEKST DOOR JOUW ANTWOORD OP BOVENSTAANDE VRAGEN. ZORG ERVOOR DAT DE TEKST IN HET ROOD BLIJFT.\n",
    "\n",
    "</span> "
   ]
  },
  {
   "cell_type": "markdown",
   "metadata": {},
   "source": [
    "$\\textbf{Opdracht 47.}$     \n",
    "\n",
    "Gegeven is de volgende overdrachtsfunctie: \n",
    "\n",
    "$H(z) = \\frac{(z^2 + 1)(z-2)}{z(z^2-z+0.5)}$\n",
    "\n",
    "a) Bepaal de polen van deze overdrachtsfunctie. \n",
    "\n",
    "b) Bepaal de nulpunten van deze overdrachtsfunctie. \n",
    "\n",
    "c) Bepaal de waarden van de coefficienten $a_0$, $a_1$, $a_2$, $a_3$, $b_0$, $b_1$, $b_2$ en $b_3$ van dit LTI systeem, met de notatie voor de $a$- en $b$-coefficienten als in formule (3.9) uit het boek van Wang. "
   ]
  },
  {
   "cell_type": "markdown",
   "metadata": {},
   "source": [
    "<span style=\"color:red\">\n",
    "VERVANG DEZE TEKST DOOR JOUW ANTWOORD OP BOVENSTAANDE VRAGEN. ZORG ERVOOR DAT DE TEKST IN HET ROOD BLIJFT.\n",
    "\n",
    "a) Antwoord voor vraag a: $p=xxx$, $p=yyy$, $p=zzz$\n",
    "    \n",
    "b) Antwoord op vraag b: $z=xxx$, $z=yyy$, $z=zzz$\n",
    "    \n",
    "c) Antwoord vraag c: $a_0 = www, a_1 = xxx, a_2 = yyy, a_3 = zzz$\n",
    "    \n",
    "$b_0 = www, b_1 = xxx, b_2 = yyy, b_3 = www$\n",
    "</span> "
   ]
  },
  {
   "cell_type": "markdown",
   "metadata": {},
   "source": [
    "# Polen en nulpunten - verdere oefeningen"
   ]
  },
  {
   "cell_type": "markdown",
   "metadata": {},
   "source": [
    "$\\textbf{Opdracht.}$   \n",
    "Draai onderstaande code (je hoeft de code zelf niet te veranderen.)."
   ]
  },
  {
   "cell_type": "code",
   "execution_count": null,
   "metadata": {},
   "outputs": [],
   "source": [
    "stnummer = 12345679\n",
    "pz_fig_label,zeros_totaal,poles_totaal,H_fig_label, \\\n",
    "    Omega_perm_totaal, H_abs_perm_totaal = dsp_op.dsp_opdracht050(stnummer)\n",
    "    \n",
    "# Creeer vier-plot\n",
    "fig_info = {'xlabel':['$\\Omega$ [-]','$\\Omega$ [-]','$\\Omega$ [-]',\n",
    "                      '$\\Omega$ [-]',],\n",
    "            'ylabel':['|H|','|H|','|H|','|H|'], \n",
    "            'title':H_fig_label,\n",
    "            'xdata':Omega_perm_totaal, \n",
    "            'ydata':H_abs_perm_totaal, \n",
    "            'markerstyle':['k','k','k','k']}\n",
    "fig_style = ['lineplot','lineplot','lineplot','lineplot']\n",
    "dsp.fig_4plot(fig_info,fig_style)\n",
    "\n",
    "# Creeer vier-plot\n",
    "fig_info = {'xlabel':['','','',''],\n",
    "            'ylabel':['','','',''], \n",
    "            'title':pz_fig_label,\n",
    "            'xdata':zeros_totaal, \n",
    "            'ydata':poles_totaal, \n",
    "            'markerstyle':['.','.','.','.']}\n",
    "fig_style = ['poleszeros_plot','poleszeros_plot','poleszeros_plot',\n",
    "             'poleszeros_plot']\n",
    "dsp.fig_4plot(fig_info,fig_style)"
   ]
  },
  {
   "cell_type": "markdown",
   "metadata": {},
   "source": [
    "$\\textbf{Vraag 48}$     \n",
    "\n",
    "Je ziet vier figuren met frequentie-responsies (Fig A t/m D) en vier figuren met polen en nulpunten (fig 1 t/m 4). Bij iedere frequentie-responsie hoort een figuur met polen nulpunten. Geef aan welke tijdserie bij welk spectrum hoort."
   ]
  },
  {
   "cell_type": "markdown",
   "metadata": {},
   "source": [
    "<span style=\"color:red\">\n",
    "GEEF JOUW ANTWOORD OP BOVENSTAANDE VRAAG. ZORG ERVOOR DAT DE TEKST IN HET ROOD BLIJFT.\n",
    "    \n",
    "* Figuur A hoort bij figuur ....\n",
    "* Figuur B hoort bij figuur ....\n",
    "* Figuur C hoort bij figuur ....\n",
    "* Figuur D hoort bij figuur ....\n",
    "\n",
    "</span> "
   ]
  },
  {
   "cell_type": "markdown",
   "metadata": {},
   "source": [
    "# Praktijkvoorbeeld - eenvoudig laagdoorlaatfilter"
   ]
  },
  {
   "cell_type": "markdown",
   "metadata": {},
   "source": [
    "$\\textbf{Opdracht.}$   \n",
    "Draai onderstaande code (je hoeft de code zelf niet te veranderen.)."
   ]
  },
  {
   "cell_type": "code",
   "execution_count": null,
   "metadata": {},
   "outputs": [],
   "source": [
    "# ---- Creeer tijdseries\n",
    "stnummer = 12345678\n",
    "t, x_time_orig,eps = dsp_op.dsp_opdracht060(stnummer)\n",
    "\n",
    "# --- Bepaal enkele handige parameters\n",
    "Nt    = len(t)\n",
    "\n",
    "# --- Bepaal spectrum\n",
    "f_orig,X_freq_orig = dsp.tijdsignaal_naar_spectrum(t,x_time_orig)\n",
    "\n",
    "# --- Plot de tijdserie en spectrum\n",
    "fig_info = {'xlabel':'t [s]', 'ylabel':'x(t)', 'title':'Tijdserie',\n",
    "            'xdata':[t], 'ydata':[x_time_orig], \n",
    "            'markerstyle':['k'],\n",
    "            'label':['signaal']}\n",
    "dsp.fig_plot(fig_info,'lineplot')\n",
    "\n",
    "fig_info = {'xlabel':'f [Hz]', 'ylabel':'|X(f)|',\n",
    "            'title':'Spectrum van origineel signaal x(t)',\n",
    "            'xdata':[f_orig], \n",
    "            'ydata':[np.abs(X_freq_orig)], \n",
    "            'markerstyle':['k'],\n",
    "            'label':['signaal']}\n",
    "dsp.fig_plot(fig_info,'lineplot')"
   ]
  },
  {
   "cell_type": "markdown",
   "metadata": {},
   "source": [
    "Je ziet dat het tijdsignaal bestaat uit een laagfrequente zweving met daar boven op hoogfrequente ruis. "
   ]
  },
  {
   "cell_type": "markdown",
   "metadata": {},
   "source": [
    " $\\textbf{Vraag 49}$     \n",
    "Welke waarde voor de frequentie past het beste bij de laagfrequente zweving in dit signaal?       \n",
    "(a) 0,5 Hz      \n",
    "(b) 2,0 Hz      \n",
    "(c) 45 Hz       \n",
    "(d) 100 Hz       "
   ]
  },
  {
   "cell_type": "markdown",
   "metadata": {},
   "source": [
    "<span style=\"color:red\">\n",
    "GEEF JOUW ANTWOORD OP BOVENSTAANDE VRAAG. ZORG ERVOOR DAT DE TEKST IN HET ROOD BLIJFT.\n",
    "    \n",
    "</span> "
   ]
  },
  {
   "cell_type": "markdown",
   "metadata": {},
   "source": [
    "We gaan een eenvoudig digitaal laagdoorlaatfilter maken om de hoogfrequente ruis uit het signaal te filteren. Een continu laagdoorlaatfilter voldoet aan de volgende differentiaalvergelijking:    \n",
    "\n",
    "$\\frac{dy}{dt} = - C(y-x)$.\n",
    "\n",
    "Na het toepassen van differenties met bemonsteringsinterval $\\Delta t$ leidt dit tot het volgende LTI-systeem van een eenvoudig laagdoorlaatfilter (differentievergelijking): \n",
    "\n",
    "$y[n] + (\\epsilon - 1) y[n-1] = \\epsilon x[n]$\n",
    "\n",
    "$\\textbf{Vraag 50.}$   \n",
    "Druk parameter $\\epsilon$ uit in een formule met daarin $C$ en $\\Delta t$"
   ]
  },
  {
   "cell_type": "markdown",
   "metadata": {},
   "source": [
    "<span style=\"color:red\">\n",
    "GEEF JOUW ANTWOORD OP BOVENSTAANDE VRAAG. ZORG ERVOOR DAT DE TEKST IN HET ROOD BLIJFT.\n",
    "    \n",
    "</span> "
   ]
  },
  {
   "cell_type": "markdown",
   "metadata": {},
   "source": [
    "We richten ons nu op vergelijking $y[n] + (\\epsilon - 1) y[n-1] = \\epsilon x[n]$. \n",
    "\n",
    "$\\textbf{Opdracht 51.}$   \n",
    "Gebruik een functie uit `module_dsp.py` die je eerder gehad hebt om een plot van de polen en nulpunten in het complexe vlak te maken. Bereken daartoe eerst de pool en het nulpunt van dit laagdoorlaatfilter. \n",
    "\n",
    "Kies hier en voor de rest van de opdrachten $\\epsilon$ = 0,1."
   ]
  },
  {
   "cell_type": "code",
   "execution_count": null,
   "metadata": {},
   "outputs": [],
   "source": [
    "# Zet hieronder de code die nodig is voor opdracht \n",
    "zeros_val = 0.0\n",
    "poles_val = 0.0\n",
    "\n",
    "# LAAT ONDERSTAANDE STAAN !!!\n",
    "print('zeros_val = ',zeros_val)\n",
    "print('poles_val = ',poles_val)"
   ]
  },
  {
   "cell_type": "markdown",
   "metadata": {},
   "source": [
    "<div class=\"alert alert-block alert-danger\"\n",
    "     \n",
    "     Antwoorden bovenstaande opdracht: \n",
    "     \n",
    "     zeros_val = [0.0]\n",
    "     poles_val = [0.9]"
   ]
  },
  {
   "cell_type": "markdown",
   "metadata": {},
   "source": [
    "\n",
    "Er zijn verschillende manieren om bovenstaande laagdoorlaatfilter toe te passen. We gaan er hier drie behandelen. \n"
   ]
  },
  {
   "cell_type": "markdown",
   "metadata": {},
   "source": [
    "$\\textbf{MANIER A: DIFFERENTIEVERGELIJKING}$  \n",
    "\n",
    "De meest directe manier om het laagdoorlaatfilter toe te passen, is door het LTI filter toe te passen op de tijdserie `x_time_orig`. Dit is al in hoofdstuk 3 van Wang behandeld. Het kan verstandig zijn om dat er nog even bij te halen. \n",
    "\n",
    "$\\textbf{52. Opdracht A1.}$   \n",
    "Bepaal het gefilterde tijdsignaal door gebruik te maken van de differentievergelijking.(Hint: bepaal de a- en b-coefficient en gebruik een van de Python-functies uit `module_dsp.py` die je eerder hebt gehad bij LTI systemen)."
   ]
  },
  {
   "cell_type": "code",
   "execution_count": null,
   "metadata": {},
   "outputs": [],
   "source": [
    "# Zet hieronder de code die nodig is voor opdracht \n",
    "y_time_diffvgl= 0\n",
    "\n",
    "\n",
    "# LAAT ONDERSTAANDE STAAN !!!\n",
    "# -Maak figuur\n",
    "fig_info = {'xlabel':'t [s]', 'ylabel':'x(t) en y(t)', 'title':'Origineel en gefilterde signaal',\n",
    "            'xdata':[t,t], 'ydata':[x_time_orig,y_time_diffvgl], \n",
    "            'markerstyle':['k','r'],\n",
    "            'label':['orig','diff. vgl']}\n",
    "dsp.fig_plot(fig_info,'lineplot')\n",
    "print('y_time_diffvgl = ',y_time_diffvgl)"
   ]
  },
  {
   "cell_type": "markdown",
   "metadata": {},
   "source": [
    "<div class=\"alert alert-block alert-danger\"\n",
    "     \n",
    "     Antwoord bovenstaande opdracht: \n",
    "     \n",
    "     y_time_diffvgl =  [ 0.00204382  0.00402217  0.00072705 ... -0.04153693 -0.04010055  -0.04131444]"
   ]
  },
  {
   "cell_type": "markdown",
   "metadata": {},
   "source": [
    "$\\textbf{MANIER B: IN TIJDSDOMEIN MBV EENHEIDSPULS EN CONVOLUTIE}$  \n",
    "\n",
    "De tweede manier om een laagdoorlaatfilter toe te passen, is door alles in het tijddomein te doen met behulp van eenheidspuls en convolutie. Dit is al in hoofdstuk 3 van Wang behandeld. Het kan verstandig zijn om dat er nog even bij te halen. \n",
    "\n",
    "$\\textbf{53. Opdracht B1.}$   \n",
    "Bepaal de impulsresponsie van dit LTI systeem in het tijddomein. Gebruik hiervoor een van de Python-functies uit de `module_dsp.py` die je eerder hebt gehad. Bereken de impulsresponsie met hetzelfde aantal elementen als in de tijdas als hierboven (dit aantal elementen is gegeven door parameter `Nt`, welke gelijk is aan 3000)."
   ]
  },
  {
   "cell_type": "code",
   "execution_count": null,
   "metadata": {},
   "outputs": [],
   "source": [
    "# Zet hieronder de code die nodig is voor opdracht \n",
    "h_time = 0\n",
    "\n",
    "\n",
    "# LAAT ONDERSTAANDE STAAN !!!\n",
    "# Maak figuur\n",
    "fig_info = {'xlabel':'t [s]', 'ylabel':'h(t)', 'title':'Responsie op eenheidspuls',\n",
    "            'xdata':[t], 'ydata':[h_time], \n",
    "            'markerstyle':['rx']}\n",
    "dsp.fig_plot(fig_info,'lineplot')\n",
    "print('h_time = ', h_time)\n",
    "\n",
    "\n"
   ]
  },
  {
   "cell_type": "markdown",
   "metadata": {},
   "source": [
    "<div class=\"alert alert-block alert-danger\"\n",
    "     \n",
    "     Antwoord bovenstaande opdracht: \n",
    "     \n",
    "     h_time =  [1.00000000e-001 9.00000000e-002 8.10000000e-002 ... 7.32488465e-139 6.59239618e-139 5.93315656e-139]"
   ]
  },
  {
   "cell_type": "markdown",
   "metadata": {},
   "source": [
    "$\\textbf{54. Vraag B2}$   \n",
    "Geef de exacte oplossing van de impulsresponsie van dit LTI systeem. Geef je antwoord in het N-domein, dus geef $h[n]$ als functie van $n$ en $\\epsilon$.   (NB Deze exacte oplossing hoef je hieronder niet meer te gebruiken. Dus als je deze exacte oplossing niet kunt vinden, kun je gewoon doorgaan met de volgende opdrachten)"
   ]
  },
  {
   "cell_type": "markdown",
   "metadata": {},
   "source": [
    "<span style=\"color:red\">\n",
    "GEEF HIER ANTWOORD OP BOVENSTAANDE VRAAG\n",
    "</span> \n"
   ]
  },
  {
   "cell_type": "markdown",
   "metadata": {},
   "source": [
    "$\\textbf{55. Opdracht B3}$     \n",
    "Gebruik de convolutie in het tijdsdomein om het laagdoorlaatfilter toe te passen. Dit leidt tot het gewenste gefilterde signaal `y_convolution`. "
   ]
  },
  {
   "cell_type": "code",
   "execution_count": null,
   "metadata": {
    "scrolled": true
   },
   "outputs": [],
   "source": [
    "# Zet hieronder de code die nodig is voor opdracht \n",
    "y_convolution = 0\n",
    "\n",
    "\n",
    "# LAAT ONDERSTAANDE STAAN !!!\n",
    "# -Maak figuur\n",
    "fig_info = {'xlabel':'t [s]', 'ylabel':'x(t) en y(t)', 'title':'Origineel en gefilterde signaal',\n",
    "            'xdata':[t,t], 'ydata':[x_time_orig,y_convolution], \n",
    "            'markerstyle':['k','r'],\n",
    "            'label':['orig','convolutie']}\n",
    "dsp.fig_plot(fig_info,'lineplot')\n",
    "print('y_convolution = ', y_convolution)"
   ]
  },
  {
   "cell_type": "markdown",
   "metadata": {},
   "source": [
    "<div class=\"alert alert-block alert-danger\"\n",
    "     \n",
    "     Antwoord bovenstaande opdracht: \n",
    "     \n",
    "     y_convolution =  [ 0.00204382  0.00402217  0.00072705 ... -0.04153693 -0.04010055  -0.04131444]"
   ]
  },
  {
   "cell_type": "markdown",
   "metadata": {},
   "source": [
    "$\\textbf{MANIER C: IN FREQUENTIEDOMEIN}$  \n",
    "\n",
    "De derde manier om een laagdoorlaatfilter toe te passen, is door alles in het frequentiedomein te doen. Hiervoor gebruik je de DFT (hoofdstuk 4 en 6 van Wang) en de Z-transformatie (hoofdstuk 5 van Wang). Zie ook de leeswijzer. \n",
    "\n",
    "$\\textbf{56. Opdracht C1.}$   \n",
    "Bepaal de bemonsteringsfrequentie. Geef deze variabele de naam `opg56_fs` in de Python code"
   ]
  },
  {
   "cell_type": "code",
   "execution_count": null,
   "metadata": {
    "scrolled": true
   },
   "outputs": [],
   "source": [
    "# Zet hieronder de code die nodig is voor opdracht \n",
    "opg56_fs = 0\n",
    "\n",
    "\n",
    "\n",
    "# LAAT ONDERSTAANDE STAAN !!!\n",
    "print('Bemonsteringsfrequentie opg56_fs = ' + str(opg56_fs) + ' Hz')"
   ]
  },
  {
   "cell_type": "markdown",
   "metadata": {},
   "source": [
    "$\\textbf{57. Opdracht C2.}$   \n",
    "1. Bepaal de impulsresponsie $H(\\Omega)$ in het frequentie domein van het laagdoorlaatfilter. Geef deze variabele de naam `H_freq` in de Python code. (Tip: bepaal eerst een array voor de relatieve hoekfrequentie $\\Omega$ met het juiste bereik en het juiste aantal elementen. Vervolgens kun je $H(\\Omega)$ bepalen adhv de a- en b-coefficienten en een Python functie die je al hebt gehad)\n",
    "\n",
    "2. Bepaal frequentie-as (frequentie in Hertz). Geef deze variabele de naam `f` in de Python code.  Zet de relatieve hoekfrequentie $\\Omega$ (python variable `Omega`) naar frequentie as `f`"
   ]
  },
  {
   "cell_type": "code",
   "execution_count": null,
   "metadata": {},
   "outputs": [],
   "source": [
    "# Relatieve hoekfrequentie \n",
    "Omega  = np.linspace(0,np.pi,len(X_freq_orig))\n",
    "\n",
    "# Zet hieronder de code die nodig is voor opdracht (bepaal H_freq en frequentie f)\n",
    "f = 0\n",
    "H_freq = 0\n",
    "\n",
    "\n",
    "\n",
    "# LAAT ONDERSTAANDE STAAN !!!\n",
    "# --- Maak Figuur\n",
    "fig_info = {'xlabel':'f [Hz]', 'ylabel':'H(f)',\n",
    "            'title':'Spectrum van eenheidsresponsie',\n",
    "            'xdata':[f], \n",
    "            'ydata':[H_freq], \n",
    "            'markerstyle':['k']}\n",
    "dsp.fig_plot(fig_info,'freqplot')\n",
    "print('f = ', f)\n",
    "print('H_freq = ',H_freq)"
   ]
  },
  {
   "cell_type": "markdown",
   "metadata": {},
   "source": [
    "<div class=\"alert alert-block alert-danger\"\n",
    "     \n",
    "     Antwoord bovenstaande opdracht: \n",
    "     \n",
    "     f =  [0.00000000e+00 6.66666667e-02 1.33333333e-01 ... 9.98666667e+01 9.99333333e+01 1.00000000e+02]\n",
    "     \n",
    "    H_freq =  [1.        +0.00000000e+00j 0.9996251 -1.88421036e-02j 0.99850219-3.76395637e-02j ... 0.05263159-1.04429824e-04j 0.05263158-5.22148553e-05j 0.05263158-3.05313606e-18j]"
   ]
  },
  {
   "cell_type": "markdown",
   "metadata": {},
   "source": [
    "$\\textbf{58. Opdracht C3.}$   \n",
    "Bereken het complexe spectrum $Y(\\Omega)$ van het gefilterde signaal (Python variabele naam: `Yfreq`) met behulp van frequentieresponsie $H(\\Omega)$ en het complexe spectrum $X(\\Omega)$ (=`X_freq_orig`) van het originele signaal.    \n",
    "Zet vervolgens $Y(\\Omega)$ weer terug naar het tijddomein (variabele naam voor het resultaat: `y_DFT_filter` op tijdas `t_DFT_filter`).     "
   ]
  },
  {
   "cell_type": "code",
   "execution_count": null,
   "metadata": {},
   "outputs": [],
   "source": [
    "# Vul onderstaande code aan voor opdracht \n",
    "Y_freq = 0\n",
    "t_DFT_filter = 0\n",
    "y_DFT_filter = 0\n",
    "\n",
    "\n",
    "# LAAT ONDERSTAANDE STAAN !!!\n",
    "# --- Plot het originele en gefilterde signaal\n",
    "fig_info = {'xlabel':'t [s]', 'ylabel':'x(t) en y(t)', 'title':'Gefilterde signaal',\n",
    "            'xdata':[t,t_DFT_filter], 'ydata':[x_time_orig,y_DFT_filter], \n",
    "            'markerstyle':['k','r'],\n",
    "            'label':['orig','freq domein']}\n",
    "dsp.fig_plot(fig_info,'lineplot')\n",
    "print('Y_freq = ', Y_freq)\n",
    "print('y_DFT_filter = ', y_DFT_filter)"
   ]
  },
  {
   "cell_type": "markdown",
   "metadata": {},
   "source": [
    "<div class=\"alert alert-block alert-danger\"\n",
    "     \n",
    "     Antwoord bovenstaande opdracht: \n",
    "     \n",
    "     Y_freq =  [4.49286182e+00+0.00000000e+00j 4.57611138e+00+3.49370791e-01j 4.84418928e+00+7.42198396e-01j ... 1.76322547e-03-1.12131030e-05j 1.76324056e-03-5.60654042e-06j 1.76324559e-03-1.02285145e-19j]\n",
    "     \n",
    "    y_DFT_filter =  [-0.03513917 -0.02944253 -0.02939117 ... -0.04153693 -0.04010055 -0.04131444]"
   ]
  },
  {
   "cell_type": "markdown",
   "metadata": {},
   "source": [
    "## Let op!\n",
    "\n",
    "<div class=\"alert alert-block alert-danger\"\n",
    "\n",
    "     \n",
    "*** Voordat je dit Jupyter Notebook als ipynb-bestand op BrightSpace zet, is het verstandig om het volgende te doen**\n",
    "\n",
    "*** Ga in de balk naar het commando Cell --> All Outputs --> Clear**\n",
    "    \n",
    "    Nu heb je alle uitvoer (berekeningen en grafieken) weggegooid. (Al jouw code en alle antwoorden op de schriftelijke vragen blijven gewoon staan)\n",
    "\n",
    "\n",
    "*** Ga in de balk naar commando Cell --> Run All** \n",
    "    \n",
    "    Nu wordt alle cellen in het Jupyter notebook weer van boven naar beneden doorlopen. Alle berekeningen worden opnieuw uitgevoerd en alle grafieken worden opnieuw gemaakt.\n",
    "\n",
    "*** Kijk door je Jupyter notebook heen en wees er zeker van dat het runnen niet ergens stopt. Want als dat het geval is, kan de docent jullie werk niet goed automatisch nakijken. En dat zou kunnen leiden tot een onvoldoende. De reden is dat  dit Jupyter notebook van boven naar beneden op correcte wijze te doorlopen moet zijn. Je wilt niet dat er, wanneer jullie bij het maken van deze opdrachten kris-kras door het Notebook zijn gegaan, er bepaalde variabelen in het geheugen zitten die niet in het geheugen zitten. Bij het nakijken gaat de docent het Jupyter notebook van boven naar beneden doorlopen. Dan zal je notebook dus niet goed werken, wat dus op tot een onvoldoende zou kunnen leiden**\n",
    "\n",
    "    \n",
    "*** Als je niet zeker bent van het inleveren, loop dat even bij je docent langs voordat je het inlevert**\n"
   ]
  },
  {
   "cell_type": "code",
   "execution_count": null,
   "metadata": {},
   "outputs": [],
   "source": []
  }
 ],
 "metadata": {
  "kernelspec": {
   "display_name": "Python 3 (ipykernel)",
   "language": "python",
   "name": "python3"
  },
  "language_info": {
   "codemirror_mode": {
    "name": "ipython",
    "version": 3
   },
   "file_extension": ".py",
   "mimetype": "text/x-python",
   "name": "python",
   "nbconvert_exporter": "python",
   "pygments_lexer": "ipython3",
   "version": "3.11.5"
  }
 },
 "nbformat": 4,
 "nbformat_minor": 2
}
